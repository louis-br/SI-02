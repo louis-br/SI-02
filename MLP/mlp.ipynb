{
 "cells": [
  {
   "cell_type": "code",
   "execution_count": 17,
   "metadata": {},
   "outputs": [],
   "source": [
    "import pandas as pd\n",
    "import numpy as np\n",
    "from joblib import dump, load\n",
    "\n",
    "from sklearn.neural_network import MLPRegressor\n",
    "from sklearn.datasets import make_regression\n",
    "from sklearn.model_selection import train_test_split"
   ]
  },
  {
   "cell_type": "code",
   "execution_count": 18,
   "metadata": {},
   "outputs": [
    {
     "data": {
      "text/html": [
       "<div>\n",
       "<style scoped>\n",
       "    .dataframe tbody tr th:only-of-type {\n",
       "        vertical-align: middle;\n",
       "    }\n",
       "\n",
       "    .dataframe tbody tr th {\n",
       "        vertical-align: top;\n",
       "    }\n",
       "\n",
       "    .dataframe thead th {\n",
       "        text-align: right;\n",
       "    }\n",
       "</style>\n",
       "<table border=\"1\" class=\"dataframe\">\n",
       "  <thead>\n",
       "    <tr style=\"text-align: right;\">\n",
       "      <th></th>\n",
       "      <th>qPA</th>\n",
       "      <th>pulso</th>\n",
       "      <th>resp</th>\n",
       "    </tr>\n",
       "  </thead>\n",
       "  <tbody>\n",
       "    <tr>\n",
       "      <th>0</th>\n",
       "      <td>0.920838</td>\n",
       "      <td>0.379605</td>\n",
       "      <td>0.983421</td>\n",
       "    </tr>\n",
       "    <tr>\n",
       "      <th>1</th>\n",
       "      <td>0.936295</td>\n",
       "      <td>0.319068</td>\n",
       "      <td>0.896306</td>\n",
       "    </tr>\n",
       "    <tr>\n",
       "      <th>2</th>\n",
       "      <td>0.500000</td>\n",
       "      <td>0.986051</td>\n",
       "      <td>0.865703</td>\n",
       "    </tr>\n",
       "    <tr>\n",
       "      <th>3</th>\n",
       "      <td>0.936667</td>\n",
       "      <td>0.718181</td>\n",
       "      <td>0.800961</td>\n",
       "    </tr>\n",
       "    <tr>\n",
       "      <th>4</th>\n",
       "      <td>0.587381</td>\n",
       "      <td>0.413183</td>\n",
       "      <td>0.554979</td>\n",
       "    </tr>\n",
       "    <tr>\n",
       "      <th>...</th>\n",
       "      <td>...</td>\n",
       "      <td>...</td>\n",
       "      <td>...</td>\n",
       "    </tr>\n",
       "    <tr>\n",
       "      <th>1495</th>\n",
       "      <td>0.738706</td>\n",
       "      <td>0.033505</td>\n",
       "      <td>0.335479</td>\n",
       "    </tr>\n",
       "    <tr>\n",
       "      <th>1496</th>\n",
       "      <td>0.920007</td>\n",
       "      <td>0.406015</td>\n",
       "      <td>0.619569</td>\n",
       "    </tr>\n",
       "    <tr>\n",
       "      <th>1497</th>\n",
       "      <td>0.738421</td>\n",
       "      <td>0.716308</td>\n",
       "      <td>0.992886</td>\n",
       "    </tr>\n",
       "    <tr>\n",
       "      <th>1498</th>\n",
       "      <td>0.585387</td>\n",
       "      <td>0.921336</td>\n",
       "      <td>0.648006</td>\n",
       "    </tr>\n",
       "    <tr>\n",
       "      <th>1499</th>\n",
       "      <td>0.737259</td>\n",
       "      <td>0.984016</td>\n",
       "      <td>0.539776</td>\n",
       "    </tr>\n",
       "  </tbody>\n",
       "</table>\n",
       "<p>1500 rows × 3 columns</p>\n",
       "</div>"
      ],
      "text/plain": [
       "           qPA     pulso      resp\n",
       "0     0.920838  0.379605  0.983421\n",
       "1     0.936295  0.319068  0.896306\n",
       "2     0.500000  0.986051  0.865703\n",
       "3     0.936667  0.718181  0.800961\n",
       "4     0.587381  0.413183  0.554979\n",
       "...        ...       ...       ...\n",
       "1495  0.738706  0.033505  0.335479\n",
       "1496  0.920007  0.406015  0.619569\n",
       "1497  0.738421  0.716308  0.992886\n",
       "1498  0.585387  0.921336  0.648006\n",
       "1499  0.737259  0.984016  0.539776\n",
       "\n",
       "[1500 rows x 3 columns]"
      ]
     },
     "execution_count": 18,
     "metadata": {},
     "output_type": "execute_result"
    }
   ],
   "source": [
    "health_data = pd.read_csv(\"../data/sinais_vitais_treino_com_label.txt\")\n",
    "health_data['qPA'] = (health_data['qPA'] + 10.0)/20.0\n",
    "health_data['pulso'] = health_data['pulso']/200.0\n",
    "health_data['resp'] = health_data['resp']/22.0\n",
    "\n",
    "health_signals = health_data[['qPA', 'pulso', 'resp']]\n",
    "\n",
    "grav = health_data['grav']\n",
    "health_signals"
   ]
  },
  {
   "cell_type": "code",
   "execution_count": 19,
   "metadata": {},
   "outputs": [],
   "source": [
    "hs_train, hs_test, grav_train, grav_test = train_test_split(health_signals, grav, test_size=0.2)"
   ]
  },
  {
   "cell_type": "code",
   "execution_count": 31,
   "metadata": {},
   "outputs": [],
   "source": [
    "mlp_regression = MLPRegressor(hidden_layer_sizes=(10,10,10), activation=\"relu\", solver=\"adam\", learning_rate=\"constant\", learning_rate_init=0.0004, max_iter=10000).fit(hs_train, grav_train)"
   ]
  },
  {
   "cell_type": "code",
   "execution_count": 36,
   "metadata": {},
   "outputs": [
    {
     "data": {
      "text/plain": [
       "0.7036528993672827"
      ]
     },
     "execution_count": 36,
     "metadata": {},
     "output_type": "execute_result"
    }
   ],
   "source": [
    "mlp_regression.score(hs_test, grav_test)"
   ]
  },
  {
   "cell_type": "code",
   "execution_count": 37,
   "metadata": {},
   "outputs": [
    {
     "data": {
      "text/plain": [
       "['MLP.pickle']"
      ]
     },
     "execution_count": 37,
     "metadata": {},
     "output_type": "execute_result"
    }
   ],
   "source": [
    "dump(mlp_regression, \"MLP.pickle\")"
   ]
  }
 ],
 "metadata": {
  "kernelspec": {
   "display_name": "Python 3.10.6 64-bit",
   "language": "python",
   "name": "python3"
  },
  "language_info": {
   "codemirror_mode": {
    "name": "ipython",
    "version": 3
   },
   "file_extension": ".py",
   "mimetype": "text/x-python",
   "name": "python",
   "nbconvert_exporter": "python",
   "pygments_lexer": "ipython3",
   "version": "3.10.6"
  },
  "orig_nbformat": 4,
  "vscode": {
   "interpreter": {
    "hash": "31f2aee4e71d21fbe5cf8b01ff0e069b9275f58929596ceb00d14d90e3e16cd6"
   }
  }
 },
 "nbformat": 4,
 "nbformat_minor": 2
}
